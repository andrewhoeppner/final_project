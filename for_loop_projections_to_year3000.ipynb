{
 "cells": [
  {
   "cell_type": "code",
   "execution_count": 1,
   "id": "e4428f89",
   "metadata": {},
   "outputs": [],
   "source": [
    "import pandas as pd"
   ]
  },
  {
   "cell_type": "code",
   "execution_count": 3,
   "id": "45173e73",
   "metadata": {},
   "outputs": [],
   "source": [
    "results = []\n",
    "year = 2022\n",
    "for i in range(2023, 3001):\n",
    "    year = year + 1\n",
    "    surface_temp = (0.0117089*year)+-22.7447\n",
    "    greenland = (-175.395*year)+350645\n",
    "    co2 = (.58499*year)+-1143.64\n",
    "    surface_temp_coef = 1.80675921e-01\n",
    "    greenland_coef = -1.76801539e-04\n",
    "    co2_coef = 1.44696647e-01\n",
    "    intercept = 3.24103213\n",
    "    adj_sealevel = (surface_temp_coef*surface_temp)+(greenland_coef*greenland)+(co2_coef*co2)+intercept\n",
    "    results.append((i, adj_sealevel))"
   ]
  },
  {
   "cell_type": "code",
   "execution_count": 9,
   "id": "e941c53a",
   "metadata": {},
   "outputs": [],
   "source": [
    "df = pd.DataFrame(results, columns = ['Year', 'Projected Adjusted Sea Level'])"
   ]
  },
  {
   "cell_type": "code",
   "execution_count": 10,
   "id": "2e8a9bd9",
   "metadata": {},
   "outputs": [
    {
     "data": {
      "text/html": [
       "<div>\n",
       "<style scoped>\n",
       "    .dataframe tbody tr th:only-of-type {\n",
       "        vertical-align: middle;\n",
       "    }\n",
       "\n",
       "    .dataframe tbody tr th {\n",
       "        vertical-align: top;\n",
       "    }\n",
       "\n",
       "    .dataframe thead th {\n",
       "        text-align: right;\n",
       "    }\n",
       "</style>\n",
       "<table border=\"1\" class=\"dataframe\">\n",
       "  <thead>\n",
       "    <tr style=\"text-align: right;\">\n",
       "      <th></th>\n",
       "      <th>Year</th>\n",
       "      <th>Projected Adjusted Sea Level</th>\n",
       "    </tr>\n",
       "  </thead>\n",
       "  <tbody>\n",
       "    <tr>\n",
       "      <th>0</th>\n",
       "      <td>2023</td>\n",
       "      <td>9.908340</td>\n",
       "    </tr>\n",
       "    <tr>\n",
       "      <th>1</th>\n",
       "      <td>2024</td>\n",
       "      <td>10.026112</td>\n",
       "    </tr>\n",
       "    <tr>\n",
       "      <th>2</th>\n",
       "      <td>2025</td>\n",
       "      <td>10.143884</td>\n",
       "    </tr>\n",
       "    <tr>\n",
       "      <th>3</th>\n",
       "      <td>2026</td>\n",
       "      <td>10.261656</td>\n",
       "    </tr>\n",
       "    <tr>\n",
       "      <th>4</th>\n",
       "      <td>2027</td>\n",
       "      <td>10.379427</td>\n",
       "    </tr>\n",
       "    <tr>\n",
       "      <th>...</th>\n",
       "      <td>...</td>\n",
       "      <td>...</td>\n",
       "    </tr>\n",
       "    <tr>\n",
       "      <th>973</th>\n",
       "      <td>2996</td>\n",
       "      <td>124.500218</td>\n",
       "    </tr>\n",
       "    <tr>\n",
       "      <th>974</th>\n",
       "      <td>2997</td>\n",
       "      <td>124.617990</td>\n",
       "    </tr>\n",
       "    <tr>\n",
       "      <th>975</th>\n",
       "      <td>2998</td>\n",
       "      <td>124.735761</td>\n",
       "    </tr>\n",
       "    <tr>\n",
       "      <th>976</th>\n",
       "      <td>2999</td>\n",
       "      <td>124.853533</td>\n",
       "    </tr>\n",
       "    <tr>\n",
       "      <th>977</th>\n",
       "      <td>3000</td>\n",
       "      <td>124.971305</td>\n",
       "    </tr>\n",
       "  </tbody>\n",
       "</table>\n",
       "<p>978 rows × 2 columns</p>\n",
       "</div>"
      ],
      "text/plain": [
       "     Year  Projected Adjusted Sea Level\n",
       "0    2023                      9.908340\n",
       "1    2024                     10.026112\n",
       "2    2025                     10.143884\n",
       "3    2026                     10.261656\n",
       "4    2027                     10.379427\n",
       "..    ...                           ...\n",
       "973  2996                    124.500218\n",
       "974  2997                    124.617990\n",
       "975  2998                    124.735761\n",
       "976  2999                    124.853533\n",
       "977  3000                    124.971305\n",
       "\n",
       "[978 rows x 2 columns]"
      ]
     },
     "execution_count": 10,
     "metadata": {},
     "output_type": "execute_result"
    }
   ],
   "source": [
    "df"
   ]
  },
  {
   "cell_type": "code",
   "execution_count": null,
   "id": "0ce40721",
   "metadata": {},
   "outputs": [],
   "source": [
    "df.to_csv('C:/Users/cjdas/uofo-virt-data-pt-12-2021-u-b/final_project/sealevels_projected_to_year3000.csv')"
   ]
  }
 ],
 "metadata": {
  "kernelspec": {
   "display_name": "mlenv",
   "language": "python",
   "name": "mlenv"
  },
  "language_info": {
   "codemirror_mode": {
    "name": "ipython",
    "version": 3
   },
   "file_extension": ".py",
   "mimetype": "text/x-python",
   "name": "python",
   "nbconvert_exporter": "python",
   "pygments_lexer": "ipython3",
   "version": "3.7.11"
  }
 },
 "nbformat": 4,
 "nbformat_minor": 5
}
