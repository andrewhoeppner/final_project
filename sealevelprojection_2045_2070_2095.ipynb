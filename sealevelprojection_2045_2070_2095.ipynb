{
 "cells": [
  {
   "cell_type": "code",
   "execution_count": 1,
   "id": "7fa80fe9",
   "metadata": {},
   "outputs": [],
   "source": [
    "# Used for plotting data\n",
    "%matplotlib inline\n",
    "import matplotlib.pyplot as plt\n",
    "\n",
    "# Used for data storage and manipulation \n",
    "import numpy as np\n",
    "import pandas as pd\n",
    "\n",
    "# Used for Regression Modelling\n",
    "from sklearn.linear_model import LinearRegression\n",
    "from sklearn import linear_model\n",
    "from sklearn.model_selection import train_test_split\n",
    "\n",
    "# Used for Acc metrics\n",
    "from sklearn.metrics import mean_squared_error\n",
    "from sklearn.metrics import r2_score\n",
    "\n",
    "# For stepwise regression\n",
    "import statsmodels.api as sm\n",
    "\n",
    "# box plots\n",
    "import seaborn as sns\n",
    "# pairplot\n",
    "from seaborn import pairplot\n",
    "# Correlation plot\n",
    "from statsmodels.graphics.correlation import plot_corr"
   ]
  },
  {
   "cell_type": "code",
   "execution_count": 4,
   "id": "02a5d83a",
   "metadata": {},
   "outputs": [],
   "source": [
    "data = pd.read_excel(\"climatechangedata.xlsx\")"
   ]
  },
  {
   "cell_type": "code",
   "execution_count": 5,
   "id": "466073aa",
   "metadata": {},
   "outputs": [
    {
     "name": "stdout",
     "output_type": "stream",
     "text": [
      "(141, 8)\n"
     ]
    },
    {
     "data": {
      "text/html": [
       "<div>\n",
       "<style scoped>\n",
       "    .dataframe tbody tr th:only-of-type {\n",
       "        vertical-align: middle;\n",
       "    }\n",
       "\n",
       "    .dataframe tbody tr th {\n",
       "        vertical-align: top;\n",
       "    }\n",
       "\n",
       "    .dataframe thead th {\n",
       "        text-align: right;\n",
       "    }\n",
       "</style>\n",
       "<table border=\"1\" class=\"dataframe\">\n",
       "  <thead>\n",
       "    <tr style=\"text-align: right;\">\n",
       "      <th></th>\n",
       "      <th>Year</th>\n",
       "      <th>adjusted_sea_level(in)</th>\n",
       "      <th>world_population</th>\n",
       "      <th>global_surface_temp_anomaly(celsius)</th>\n",
       "      <th>antarctica_ice_mass_change</th>\n",
       "      <th>greenland_ice_mass_change</th>\n",
       "      <th>global_co2(in billion metric tons)</th>\n",
       "      <th>global_seasurface_temp_anomaly(celsius)</th>\n",
       "    </tr>\n",
       "  </thead>\n",
       "  <tbody>\n",
       "    <tr>\n",
       "      <th>0</th>\n",
       "      <td>2020</td>\n",
       "      <td>9.737462</td>\n",
       "      <td>7.794799e+09</td>\n",
       "      <td>1.57</td>\n",
       "      <td>-2701.780000</td>\n",
       "      <td>-4766.340000</td>\n",
       "      <td>34.81</td>\n",
       "      <td>0.840</td>\n",
       "    </tr>\n",
       "    <tr>\n",
       "      <th>1</th>\n",
       "      <td>2019</td>\n",
       "      <td>9.479331</td>\n",
       "      <td>7.713468e+09</td>\n",
       "      <td>1.41</td>\n",
       "      <td>-2365.490000</td>\n",
       "      <td>-3651.033610</td>\n",
       "      <td>36.70</td>\n",
       "      <td>0.876</td>\n",
       "    </tr>\n",
       "    <tr>\n",
       "      <th>2</th>\n",
       "      <td>2018</td>\n",
       "      <td>9.221200</td>\n",
       "      <td>7.631091e+09</td>\n",
       "      <td>1.20</td>\n",
       "      <td>-2256.760000</td>\n",
       "      <td>-3519.216944</td>\n",
       "      <td>36.65</td>\n",
       "      <td>0.732</td>\n",
       "    </tr>\n",
       "    <tr>\n",
       "      <th>3</th>\n",
       "      <td>2017</td>\n",
       "      <td>9.087686</td>\n",
       "      <td>7.547859e+09</td>\n",
       "      <td>1.40</td>\n",
       "      <td>-2172.783512</td>\n",
       "      <td>-3435.395506</td>\n",
       "      <td>35.93</td>\n",
       "      <td>0.822</td>\n",
       "    </tr>\n",
       "    <tr>\n",
       "      <th>4</th>\n",
       "      <td>2016</td>\n",
       "      <td>9.036237</td>\n",
       "      <td>7.464022e+09</td>\n",
       "      <td>1.53</td>\n",
       "      <td>-2105.760447</td>\n",
       "      <td>-3200.426290</td>\n",
       "      <td>35.45</td>\n",
       "      <td>0.930</td>\n",
       "    </tr>\n",
       "  </tbody>\n",
       "</table>\n",
       "</div>"
      ],
      "text/plain": [
       "   Year  adjusted_sea_level(in)  world_population  \\\n",
       "0  2020                9.737462      7.794799e+09   \n",
       "1  2019                9.479331      7.713468e+09   \n",
       "2  2018                9.221200      7.631091e+09   \n",
       "3  2017                9.087686      7.547859e+09   \n",
       "4  2016                9.036237      7.464022e+09   \n",
       "\n",
       "   global_surface_temp_anomaly(celsius)  antarctica_ice_mass_change  \\\n",
       "0                                  1.57                -2701.780000   \n",
       "1                                  1.41                -2365.490000   \n",
       "2                                  1.20                -2256.760000   \n",
       "3                                  1.40                -2172.783512   \n",
       "4                                  1.53                -2105.760447   \n",
       "\n",
       "   greenland_ice_mass_change  global_co2(in billion metric tons)  \\\n",
       "0               -4766.340000                               34.81   \n",
       "1               -3651.033610                               36.70   \n",
       "2               -3519.216944                               36.65   \n",
       "3               -3435.395506                               35.93   \n",
       "4               -3200.426290                               35.45   \n",
       "\n",
       "   global_seasurface_temp_anomaly(celsius)  \n",
       "0                                    0.840  \n",
       "1                                    0.876  \n",
       "2                                    0.732  \n",
       "3                                    0.822  \n",
       "4                                    0.930  "
      ]
     },
     "execution_count": 5,
     "metadata": {},
     "output_type": "execute_result"
    }
   ],
   "source": [
    "# adding .head() to your dataset allows you to see the first rows in the dataset. \n",
    "# Add a # inside the brackets to specificy how many rows are returned or else 5 rows are returned.\n",
    "print(data.shape)\n",
    "# (12144, 18)\n",
    "data.head()"
   ]
  },
  {
   "cell_type": "code",
   "execution_count": 6,
   "id": "7acd466f",
   "metadata": {},
   "outputs": [
    {
     "data": {
      "text/plain": [
       "Year                                         0\n",
       "adjusted_sea_level(in)                       0\n",
       "world_population                            71\n",
       "global_surface_temp_anomaly(celsius)         0\n",
       "antarctica_ice_mass_change                 112\n",
       "greenland_ice_mass_change                  112\n",
       "global_co2(in billion metric tons)         112\n",
       "global_seasurface_temp_anomaly(celsius)      0\n",
       "dtype: int64"
      ]
     },
     "execution_count": 6,
     "metadata": {},
     "output_type": "execute_result"
    }
   ],
   "source": [
    "# check for the null values in each column\n",
    "data.isna().sum()"
   ]
  },
  {
   "cell_type": "code",
   "execution_count": 7,
   "id": "87406cef",
   "metadata": {},
   "outputs": [
    {
     "name": "stdout",
     "output_type": "stream",
     "text": [
      "<class 'pandas.core.frame.DataFrame'>\n",
      "RangeIndex: 141 entries, 0 to 140\n",
      "Data columns (total 8 columns):\n",
      " #   Column                                   Non-Null Count  Dtype  \n",
      "---  ------                                   --------------  -----  \n",
      " 0   Year                                     141 non-null    int64  \n",
      " 1   adjusted_sea_level(in)                   141 non-null    float64\n",
      " 2   world_population                         70 non-null     float64\n",
      " 3   global_surface_temp_anomaly(celsius)     141 non-null    float64\n",
      " 4   antarctica_ice_mass_change               29 non-null     float64\n",
      " 5   greenland_ice_mass_change                29 non-null     float64\n",
      " 6   global_co2(in billion metric tons)       29 non-null     float64\n",
      " 7   global_seasurface_temp_anomaly(celsius)  141 non-null    float64\n",
      "dtypes: float64(7), int64(1)\n",
      "memory usage: 8.9 KB\n"
     ]
    }
   ],
   "source": [
    "# Gives you useful info about your data\n",
    "data.info()"
   ]
  },
  {
   "cell_type": "code",
   "execution_count": 8,
   "id": "8f2886c5",
   "metadata": {},
   "outputs": [
    {
     "data": {
      "text/html": [
       "<div>\n",
       "<style scoped>\n",
       "    .dataframe tbody tr th:only-of-type {\n",
       "        vertical-align: middle;\n",
       "    }\n",
       "\n",
       "    .dataframe tbody tr th {\n",
       "        vertical-align: top;\n",
       "    }\n",
       "\n",
       "    .dataframe thead th {\n",
       "        text-align: right;\n",
       "    }\n",
       "</style>\n",
       "<table border=\"1\" class=\"dataframe\">\n",
       "  <thead>\n",
       "    <tr style=\"text-align: right;\">\n",
       "      <th></th>\n",
       "      <th>Year</th>\n",
       "      <th>adjusted_sea_level(in)</th>\n",
       "      <th>world_population</th>\n",
       "      <th>global_surface_temp_anomaly(celsius)</th>\n",
       "      <th>antarctica_ice_mass_change</th>\n",
       "      <th>greenland_ice_mass_change</th>\n",
       "      <th>global_co2(in billion metric tons)</th>\n",
       "      <th>global_seasurface_temp_anomaly(celsius)</th>\n",
       "    </tr>\n",
       "  </thead>\n",
       "  <tbody>\n",
       "    <tr>\n",
       "      <th>count</th>\n",
       "      <td>141.000000</td>\n",
       "      <td>141.000000</td>\n",
       "      <td>7.000000e+01</td>\n",
       "      <td>141.000000</td>\n",
       "      <td>29.000000</td>\n",
       "      <td>29.000000</td>\n",
       "      <td>29.000000</td>\n",
       "      <td>141.000000</td>\n",
       "    </tr>\n",
       "    <tr>\n",
       "      <th>mean</th>\n",
       "      <td>1950.000000</td>\n",
       "      <td>3.919751</td>\n",
       "      <td>5.002010e+09</td>\n",
       "      <td>0.087730</td>\n",
       "      <td>-658.584514</td>\n",
       "      <td>-1196.428684</td>\n",
       "      <td>29.850345</td>\n",
       "      <td>-0.300383</td>\n",
       "    </tr>\n",
       "    <tr>\n",
       "      <th>std</th>\n",
       "      <td>40.847277</td>\n",
       "      <td>2.697811</td>\n",
       "      <td>1.594877e+09</td>\n",
       "      <td>0.536751</td>\n",
       "      <td>973.461574</td>\n",
       "      <td>1563.086338</td>\n",
       "      <td>5.100117</td>\n",
       "      <td>0.487778</td>\n",
       "    </tr>\n",
       "    <tr>\n",
       "      <th>min</th>\n",
       "      <td>1880.000000</td>\n",
       "      <td>-0.440945</td>\n",
       "      <td>2.584034e+09</td>\n",
       "      <td>-0.720000</td>\n",
       "      <td>-2701.780000</td>\n",
       "      <td>-4766.340000</td>\n",
       "      <td>22.570000</td>\n",
       "      <td>-1.176000</td>\n",
       "    </tr>\n",
       "    <tr>\n",
       "      <th>25%</th>\n",
       "      <td>1915.000000</td>\n",
       "      <td>1.791339</td>\n",
       "      <td>3.570120e+09</td>\n",
       "      <td>-0.310000</td>\n",
       "      <td>-1319.484688</td>\n",
       "      <td>-2561.055333</td>\n",
       "      <td>24.520000</td>\n",
       "      <td>-0.690000</td>\n",
       "    </tr>\n",
       "    <tr>\n",
       "      <th>50%</th>\n",
       "      <td>1950.000000</td>\n",
       "      <td>3.598425</td>\n",
       "      <td>4.915745e+09</td>\n",
       "      <td>-0.040000</td>\n",
       "      <td>-226.623443</td>\n",
       "      <td>-633.429964</td>\n",
       "      <td>30.580000</td>\n",
       "      <td>-0.402000</td>\n",
       "    </tr>\n",
       "    <tr>\n",
       "      <th>75%</th>\n",
       "      <td>1985.000000</td>\n",
       "      <td>5.980315</td>\n",
       "      <td>6.361332e+09</td>\n",
       "      <td>0.340000</td>\n",
       "      <td>122.156204</td>\n",
       "      <td>139.036381</td>\n",
       "      <td>34.970000</td>\n",
       "      <td>0.048000</td>\n",
       "    </tr>\n",
       "    <tr>\n",
       "      <th>max</th>\n",
       "      <td>2020.000000</td>\n",
       "      <td>9.737462</td>\n",
       "      <td>7.794799e+09</td>\n",
       "      <td>1.570000</td>\n",
       "      <td>430.282061</td>\n",
       "      <td>461.673859</td>\n",
       "      <td>36.700000</td>\n",
       "      <td>0.930000</td>\n",
       "    </tr>\n",
       "  </tbody>\n",
       "</table>\n",
       "</div>"
      ],
      "text/plain": [
       "              Year  adjusted_sea_level(in)  world_population  \\\n",
       "count   141.000000              141.000000      7.000000e+01   \n",
       "mean   1950.000000                3.919751      5.002010e+09   \n",
       "std      40.847277                2.697811      1.594877e+09   \n",
       "min    1880.000000               -0.440945      2.584034e+09   \n",
       "25%    1915.000000                1.791339      3.570120e+09   \n",
       "50%    1950.000000                3.598425      4.915745e+09   \n",
       "75%    1985.000000                5.980315      6.361332e+09   \n",
       "max    2020.000000                9.737462      7.794799e+09   \n",
       "\n",
       "       global_surface_temp_anomaly(celsius)  antarctica_ice_mass_change  \\\n",
       "count                            141.000000                   29.000000   \n",
       "mean                               0.087730                 -658.584514   \n",
       "std                                0.536751                  973.461574   \n",
       "min                               -0.720000                -2701.780000   \n",
       "25%                               -0.310000                -1319.484688   \n",
       "50%                               -0.040000                 -226.623443   \n",
       "75%                                0.340000                  122.156204   \n",
       "max                                1.570000                  430.282061   \n",
       "\n",
       "       greenland_ice_mass_change  global_co2(in billion metric tons)  \\\n",
       "count                  29.000000                           29.000000   \n",
       "mean                -1196.428684                           29.850345   \n",
       "std                  1563.086338                            5.100117   \n",
       "min                 -4766.340000                           22.570000   \n",
       "25%                 -2561.055333                           24.520000   \n",
       "50%                  -633.429964                           30.580000   \n",
       "75%                   139.036381                           34.970000   \n",
       "max                   461.673859                           36.700000   \n",
       "\n",
       "       global_seasurface_temp_anomaly(celsius)  \n",
       "count                               141.000000  \n",
       "mean                                 -0.300383  \n",
       "std                                   0.487778  \n",
       "min                                  -1.176000  \n",
       "25%                                  -0.690000  \n",
       "50%                                  -0.402000  \n",
       "75%                                   0.048000  \n",
       "max                                   0.930000  "
      ]
     },
     "execution_count": 8,
     "metadata": {},
     "output_type": "execute_result"
    }
   ],
   "source": [
    "# Gives you summary statistics on your numeric columns\n",
    "data.describe()"
   ]
  },
  {
   "cell_type": "code",
   "execution_count": 9,
   "id": "84dc8a00",
   "metadata": {},
   "outputs": [],
   "source": [
    "# return only rows where the year is greater than 1992\n",
    "current = data[(data['Year'] > 1992)]"
   ]
  },
  {
   "cell_type": "code",
   "execution_count": 10,
   "id": "a891245e",
   "metadata": {},
   "outputs": [],
   "source": [
    "pd.options.mode.chained_assignment = None  # default='warn'"
   ]
  },
  {
   "cell_type": "code",
   "execution_count": 11,
   "id": "fd820bc7",
   "metadata": {},
   "outputs": [
    {
     "name": "stdout",
     "output_type": "stream",
     "text": [
      "(28, 8)\n"
     ]
    }
   ],
   "source": [
    "print(current.shape)"
   ]
  },
  {
   "cell_type": "code",
   "execution_count": 12,
   "id": "3ea3a321",
   "metadata": {},
   "outputs": [],
   "source": [
    "final = data.dropna()"
   ]
  },
  {
   "cell_type": "code",
   "execution_count": 13,
   "id": "d1cfcb55",
   "metadata": {},
   "outputs": [
    {
     "name": "stdout",
     "output_type": "stream",
     "text": [
      "(29, 8)\n"
     ]
    }
   ],
   "source": [
    "print(final.shape)"
   ]
  },
  {
   "cell_type": "code",
   "execution_count": 14,
   "id": "8e4f81d5",
   "metadata": {},
   "outputs": [
    {
     "data": {
      "text/html": [
       "<div>\n",
       "<style scoped>\n",
       "    .dataframe tbody tr th:only-of-type {\n",
       "        vertical-align: middle;\n",
       "    }\n",
       "\n",
       "    .dataframe tbody tr th {\n",
       "        vertical-align: top;\n",
       "    }\n",
       "\n",
       "    .dataframe thead th {\n",
       "        text-align: right;\n",
       "    }\n",
       "</style>\n",
       "<table border=\"1\" class=\"dataframe\">\n",
       "  <thead>\n",
       "    <tr style=\"text-align: right;\">\n",
       "      <th></th>\n",
       "      <th>Year</th>\n",
       "      <th>adjusted_sea_level(in)</th>\n",
       "      <th>world_population</th>\n",
       "      <th>global_surface_temp_anomaly(celsius)</th>\n",
       "      <th>antarctica_ice_mass_change</th>\n",
       "      <th>greenland_ice_mass_change</th>\n",
       "      <th>global_co2(in billion metric tons)</th>\n",
       "      <th>global_seasurface_temp_anomaly(celsius)</th>\n",
       "    </tr>\n",
       "  </thead>\n",
       "  <tbody>\n",
       "    <tr>\n",
       "      <th>24</th>\n",
       "      <td>1996</td>\n",
       "      <td>6.783465</td>\n",
       "      <td>5.824892e+09</td>\n",
       "      <td>0.35</td>\n",
       "      <td>205.674407</td>\n",
       "      <td>157.888961</td>\n",
       "      <td>24.15</td>\n",
       "      <td>0.084</td>\n",
       "    </tr>\n",
       "    <tr>\n",
       "      <th>25</th>\n",
       "      <td>1995</td>\n",
       "      <td>6.622047</td>\n",
       "      <td>5.744213e+09</td>\n",
       "      <td>0.78</td>\n",
       "      <td>242.839127</td>\n",
       "      <td>301.790526</td>\n",
       "      <td>23.45</td>\n",
       "      <td>0.174</td>\n",
       "    </tr>\n",
       "    <tr>\n",
       "      <th>26</th>\n",
       "      <td>1994</td>\n",
       "      <td>6.507874</td>\n",
       "      <td>5.663150e+09</td>\n",
       "      <td>0.48</td>\n",
       "      <td>371.881452</td>\n",
       "      <td>386.065526</td>\n",
       "      <td>22.96</td>\n",
       "      <td>0.084</td>\n",
       "    </tr>\n",
       "    <tr>\n",
       "      <th>27</th>\n",
       "      <td>1993</td>\n",
       "      <td>6.303150</td>\n",
       "      <td>5.581598e+09</td>\n",
       "      <td>0.35</td>\n",
       "      <td>430.282061</td>\n",
       "      <td>461.673859</td>\n",
       "      <td>22.80</td>\n",
       "      <td>0.048</td>\n",
       "    </tr>\n",
       "    <tr>\n",
       "      <th>28</th>\n",
       "      <td>1992</td>\n",
       "      <td>6.374016</td>\n",
       "      <td>5.498920e+09</td>\n",
       "      <td>0.25</td>\n",
       "      <td>418.310350</td>\n",
       "      <td>395.365526</td>\n",
       "      <td>22.57</td>\n",
       "      <td>0.048</td>\n",
       "    </tr>\n",
       "  </tbody>\n",
       "</table>\n",
       "</div>"
      ],
      "text/plain": [
       "    Year  adjusted_sea_level(in)  world_population  \\\n",
       "24  1996                6.783465      5.824892e+09   \n",
       "25  1995                6.622047      5.744213e+09   \n",
       "26  1994                6.507874      5.663150e+09   \n",
       "27  1993                6.303150      5.581598e+09   \n",
       "28  1992                6.374016      5.498920e+09   \n",
       "\n",
       "    global_surface_temp_anomaly(celsius)  antarctica_ice_mass_change  \\\n",
       "24                                  0.35                  205.674407   \n",
       "25                                  0.78                  242.839127   \n",
       "26                                  0.48                  371.881452   \n",
       "27                                  0.35                  430.282061   \n",
       "28                                  0.25                  418.310350   \n",
       "\n",
       "    greenland_ice_mass_change  global_co2(in billion metric tons)  \\\n",
       "24                 157.888961                               24.15   \n",
       "25                 301.790526                               23.45   \n",
       "26                 386.065526                               22.96   \n",
       "27                 461.673859                               22.80   \n",
       "28                 395.365526                               22.57   \n",
       "\n",
       "    global_seasurface_temp_anomaly(celsius)  \n",
       "24                                    0.084  \n",
       "25                                    0.174  \n",
       "26                                    0.084  \n",
       "27                                    0.048  \n",
       "28                                    0.048  "
      ]
     },
     "execution_count": 14,
     "metadata": {},
     "output_type": "execute_result"
    }
   ],
   "source": [
    "final.tail()"
   ]
  },
  {
   "cell_type": "code",
   "execution_count": 15,
   "id": "193ec4cf",
   "metadata": {},
   "outputs": [
    {
     "data": {
      "text/html": [
       "<div>\n",
       "<style scoped>\n",
       "    .dataframe tbody tr th:only-of-type {\n",
       "        vertical-align: middle;\n",
       "    }\n",
       "\n",
       "    .dataframe tbody tr th {\n",
       "        vertical-align: top;\n",
       "    }\n",
       "\n",
       "    .dataframe thead th {\n",
       "        text-align: right;\n",
       "    }\n",
       "</style>\n",
       "<table border=\"1\" class=\"dataframe\">\n",
       "  <thead>\n",
       "    <tr style=\"text-align: right;\">\n",
       "      <th></th>\n",
       "      <th>Year</th>\n",
       "      <th>adjusted_sea_level(in)</th>\n",
       "      <th>world_population</th>\n",
       "      <th>global_surface_temp_anomaly(celsius)</th>\n",
       "      <th>antarctica_ice_mass_change</th>\n",
       "      <th>greenland_ice_mass_change</th>\n",
       "      <th>global_co2(in billion metric tons)</th>\n",
       "      <th>global_seasurface_temp_anomaly(celsius)</th>\n",
       "    </tr>\n",
       "  </thead>\n",
       "  <tbody>\n",
       "    <tr>\n",
       "      <th>0</th>\n",
       "      <td>2020</td>\n",
       "      <td>9.737462</td>\n",
       "      <td>7.794799e+09</td>\n",
       "      <td>1.57</td>\n",
       "      <td>-2701.780000</td>\n",
       "      <td>-4766.340000</td>\n",
       "      <td>34.81</td>\n",
       "      <td>0.840</td>\n",
       "    </tr>\n",
       "    <tr>\n",
       "      <th>1</th>\n",
       "      <td>2019</td>\n",
       "      <td>9.479331</td>\n",
       "      <td>7.713468e+09</td>\n",
       "      <td>1.41</td>\n",
       "      <td>-2365.490000</td>\n",
       "      <td>-3651.033610</td>\n",
       "      <td>36.70</td>\n",
       "      <td>0.876</td>\n",
       "    </tr>\n",
       "    <tr>\n",
       "      <th>2</th>\n",
       "      <td>2018</td>\n",
       "      <td>9.221200</td>\n",
       "      <td>7.631091e+09</td>\n",
       "      <td>1.20</td>\n",
       "      <td>-2256.760000</td>\n",
       "      <td>-3519.216944</td>\n",
       "      <td>36.65</td>\n",
       "      <td>0.732</td>\n",
       "    </tr>\n",
       "    <tr>\n",
       "      <th>3</th>\n",
       "      <td>2017</td>\n",
       "      <td>9.087686</td>\n",
       "      <td>7.547859e+09</td>\n",
       "      <td>1.40</td>\n",
       "      <td>-2172.783512</td>\n",
       "      <td>-3435.395506</td>\n",
       "      <td>35.93</td>\n",
       "      <td>0.822</td>\n",
       "    </tr>\n",
       "    <tr>\n",
       "      <th>4</th>\n",
       "      <td>2016</td>\n",
       "      <td>9.036237</td>\n",
       "      <td>7.464022e+09</td>\n",
       "      <td>1.53</td>\n",
       "      <td>-2105.760447</td>\n",
       "      <td>-3200.426290</td>\n",
       "      <td>35.45</td>\n",
       "      <td>0.930</td>\n",
       "    </tr>\n",
       "  </tbody>\n",
       "</table>\n",
       "</div>"
      ],
      "text/plain": [
       "   Year  adjusted_sea_level(in)  world_population  \\\n",
       "0  2020                9.737462      7.794799e+09   \n",
       "1  2019                9.479331      7.713468e+09   \n",
       "2  2018                9.221200      7.631091e+09   \n",
       "3  2017                9.087686      7.547859e+09   \n",
       "4  2016                9.036237      7.464022e+09   \n",
       "\n",
       "   global_surface_temp_anomaly(celsius)  antarctica_ice_mass_change  \\\n",
       "0                                  1.57                -2701.780000   \n",
       "1                                  1.41                -2365.490000   \n",
       "2                                  1.20                -2256.760000   \n",
       "3                                  1.40                -2172.783512   \n",
       "4                                  1.53                -2105.760447   \n",
       "\n",
       "   greenland_ice_mass_change  global_co2(in billion metric tons)  \\\n",
       "0               -4766.340000                               34.81   \n",
       "1               -3651.033610                               36.70   \n",
       "2               -3519.216944                               36.65   \n",
       "3               -3435.395506                               35.93   \n",
       "4               -3200.426290                               35.45   \n",
       "\n",
       "   global_seasurface_temp_anomaly(celsius)  \n",
       "0                                    0.840  \n",
       "1                                    0.876  \n",
       "2                                    0.732  \n",
       "3                                    0.822  \n",
       "4                                    0.930  "
      ]
     },
     "execution_count": 15,
     "metadata": {},
     "output_type": "execute_result"
    }
   ],
   "source": [
    "final.head()"
   ]
  },
  {
   "cell_type": "code",
   "execution_count": 16,
   "id": "7543562a",
   "metadata": {},
   "outputs": [
    {
     "data": {
      "text/html": [
       "<div>\n",
       "<style scoped>\n",
       "    .dataframe tbody tr th:only-of-type {\n",
       "        vertical-align: middle;\n",
       "    }\n",
       "\n",
       "    .dataframe tbody tr th {\n",
       "        vertical-align: top;\n",
       "    }\n",
       "\n",
       "    .dataframe thead th {\n",
       "        text-align: right;\n",
       "    }\n",
       "</style>\n",
       "<table border=\"1\" class=\"dataframe\">\n",
       "  <thead>\n",
       "    <tr style=\"text-align: right;\">\n",
       "      <th></th>\n",
       "      <th>Year</th>\n",
       "      <th>adjusted_sea_level(in)</th>\n",
       "      <th>world_population</th>\n",
       "      <th>global_surface_temp_anomaly(celsius)</th>\n",
       "      <th>antarctica_ice_mass_change</th>\n",
       "      <th>greenland_ice_mass_change</th>\n",
       "      <th>global_co2(in billion metric tons)</th>\n",
       "      <th>global_seasurface_temp_anomaly(celsius)</th>\n",
       "    </tr>\n",
       "  </thead>\n",
       "  <tbody>\n",
       "    <tr>\n",
       "      <th>136</th>\n",
       "      <td>1884</td>\n",
       "      <td>0.590551</td>\n",
       "      <td>NaN</td>\n",
       "      <td>-0.72</td>\n",
       "      <td>NaN</td>\n",
       "      <td>NaN</td>\n",
       "      <td>NaN</td>\n",
       "      <td>-0.582</td>\n",
       "    </tr>\n",
       "    <tr>\n",
       "      <th>137</th>\n",
       "      <td>1883</td>\n",
       "      <td>-0.232283</td>\n",
       "      <td>NaN</td>\n",
       "      <td>-0.67</td>\n",
       "      <td>NaN</td>\n",
       "      <td>NaN</td>\n",
       "      <td>NaN</td>\n",
       "      <td>-0.456</td>\n",
       "    </tr>\n",
       "    <tr>\n",
       "      <th>138</th>\n",
       "      <td>1882</td>\n",
       "      <td>-0.440945</td>\n",
       "      <td>NaN</td>\n",
       "      <td>-0.47</td>\n",
       "      <td>NaN</td>\n",
       "      <td>NaN</td>\n",
       "      <td>NaN</td>\n",
       "      <td>-0.348</td>\n",
       "    </tr>\n",
       "    <tr>\n",
       "      <th>139</th>\n",
       "      <td>1881</td>\n",
       "      <td>0.220472</td>\n",
       "      <td>NaN</td>\n",
       "      <td>-0.44</td>\n",
       "      <td>NaN</td>\n",
       "      <td>NaN</td>\n",
       "      <td>NaN</td>\n",
       "      <td>-0.330</td>\n",
       "    </tr>\n",
       "    <tr>\n",
       "      <th>140</th>\n",
       "      <td>1880</td>\n",
       "      <td>0.000000</td>\n",
       "      <td>NaN</td>\n",
       "      <td>-0.52</td>\n",
       "      <td>NaN</td>\n",
       "      <td>NaN</td>\n",
       "      <td>NaN</td>\n",
       "      <td>-0.420</td>\n",
       "    </tr>\n",
       "  </tbody>\n",
       "</table>\n",
       "</div>"
      ],
      "text/plain": [
       "     Year  adjusted_sea_level(in)  world_population  \\\n",
       "136  1884                0.590551               NaN   \n",
       "137  1883               -0.232283               NaN   \n",
       "138  1882               -0.440945               NaN   \n",
       "139  1881                0.220472               NaN   \n",
       "140  1880                0.000000               NaN   \n",
       "\n",
       "     global_surface_temp_anomaly(celsius)  antarctica_ice_mass_change  \\\n",
       "136                                 -0.72                         NaN   \n",
       "137                                 -0.67                         NaN   \n",
       "138                                 -0.47                         NaN   \n",
       "139                                 -0.44                         NaN   \n",
       "140                                 -0.52                         NaN   \n",
       "\n",
       "     greenland_ice_mass_change  global_co2(in billion metric tons)  \\\n",
       "136                        NaN                                 NaN   \n",
       "137                        NaN                                 NaN   \n",
       "138                        NaN                                 NaN   \n",
       "139                        NaN                                 NaN   \n",
       "140                        NaN                                 NaN   \n",
       "\n",
       "     global_seasurface_temp_anomaly(celsius)  \n",
       "136                                   -0.582  \n",
       "137                                   -0.456  \n",
       "138                                   -0.348  \n",
       "139                                   -0.330  \n",
       "140                                   -0.420  "
      ]
     },
     "execution_count": 16,
     "metadata": {},
     "output_type": "execute_result"
    }
   ],
   "source": [
    "data.tail()"
   ]
  },
  {
   "cell_type": "code",
   "execution_count": 17,
   "id": "e3b1817d",
   "metadata": {},
   "outputs": [],
   "source": [
    "df = final[['Year', 'adjusted_sea_level(in)', 'world_population', 'global_surface_temp_anomaly(celsius)', 'antarctica_ice_mass_change', 'greenland_ice_mass_change', 'global_co2(in billion metric tons)', 'global_seasurface_temp_anomaly(celsius)']]"
   ]
  },
  {
   "cell_type": "code",
   "execution_count": 18,
   "id": "ff32b66c",
   "metadata": {},
   "outputs": [
    {
     "name": "stdout",
     "output_type": "stream",
     "text": [
      "<class 'pandas.core.frame.DataFrame'>\n",
      "Int64Index: 29 entries, 0 to 28\n",
      "Data columns (total 8 columns):\n",
      " #   Column                                   Non-Null Count  Dtype  \n",
      "---  ------                                   --------------  -----  \n",
      " 0   Year                                     29 non-null     int64  \n",
      " 1   adjusted_sea_level(in)                   29 non-null     float64\n",
      " 2   world_population                         29 non-null     float64\n",
      " 3   global_surface_temp_anomaly(celsius)     29 non-null     float64\n",
      " 4   antarctica_ice_mass_change               29 non-null     float64\n",
      " 5   greenland_ice_mass_change                29 non-null     float64\n",
      " 6   global_co2(in billion metric tons)       29 non-null     float64\n",
      " 7   global_seasurface_temp_anomaly(celsius)  29 non-null     float64\n",
      "dtypes: float64(7), int64(1)\n",
      "memory usage: 2.0 KB\n"
     ]
    }
   ],
   "source": [
    "df.info()"
   ]
  },
  {
   "cell_type": "code",
   "execution_count": 19,
   "id": "3d88d4e8",
   "metadata": {},
   "outputs": [
    {
     "data": {
      "text/plain": [
       "[<matplotlib.lines.Line2D at 0x1f7daeb9488>]"
      ]
     },
     "execution_count": 19,
     "metadata": {},
     "output_type": "execute_result"
    },
    {
     "data": {
      "image/png": "[encoded data removed]",
      "text/plain": [
       "<Figure size 432x288 with 1 Axes>"
      ]
     },
     "metadata": {
      "needs_background": "light"
     },
     "output_type": "display_data"
    }
   ],
   "source": [
    "### Plot data\n",
    "plt.scatter(df['adjusted_sea_level(in)'], df['world_population'], color='blue')\n",
    "plt.title('Adjusted Sea Level Vs World Population', fontsize=14)\n",
    "plt.xlabel('Adjusted Sea Level', fontsize=14)\n",
    "plt.ylabel('World Population', fontsize=14)\n",
    "plt.grid(True)\n",
    "\n",
    "### Add trendline\n",
    "z= np.polyfit(df['adjusted_sea_level(in)'], df['world_population'], 1)\n",
    "p=np.poly1d(z)\n",
    "plt.plot(df['adjusted_sea_level(in)'], p(df['adjusted_sea_level(in)']), \"r--\")"
   ]
  },
  {
   "cell_type": "code",
   "execution_count": 20,
   "id": "3a43d847",
   "metadata": {},
   "outputs": [
    {
     "data": {
      "text/plain": [
       "[<matplotlib.lines.Line2D at 0x1f7db722408>]"
      ]
     },
     "execution_count": 20,
     "metadata": {},
     "output_type": "execute_result"
    },
    {
     "data": {
      "image/png": "[encoded data removed]",
      "text/plain": [
       "<Figure size 432x288 with 1 Axes>"
      ]
     },
     "metadata": {
      "needs_background": "light"
     },
     "output_type": "display_data"
    }
   ],
   "source": [
    "plt.scatter(df['adjusted_sea_level(in)'], df['global_surface_temp_anomaly(celsius)'], color='blue')\n",
    "plt.title('Adjusted Sea Level Vs Global Surface Temperature Anomaly', fontsize=14)\n",
    "plt.xlabel('Adjusted Sea Level', fontsize=14)\n",
    "plt.ylabel('Global Surface Temperature Anomaly', fontsize=14)\n",
    "plt.grid(True)\n",
    "\n",
    "### Add trendline\n",
    "z= np.polyfit(df['adjusted_sea_level(in)'], df['global_surface_temp_anomaly(celsius)'], 1)\n",
    "p=np.poly1d(z)\n",
    "plt.plot(df['adjusted_sea_level(in)'], p(df['adjusted_sea_level(in)']), \"r--\")"
   ]
  },
  {
   "cell_type": "code",
   "execution_count": 21,
   "id": "cd201754",
   "metadata": {},
   "outputs": [
    {
     "data": {
      "text/plain": [
       "[<matplotlib.lines.Line2D at 0x1f7db7be0c8>]"
      ]
     },
     "execution_count": 21,
     "metadata": {},
     "output_type": "execute_result"
    },
    {
     "data": {
      "image/png": "[encoded data removed]",
      "text/plain": [
       "<Figure size 432x288 with 1 Axes>"
      ]
     },
     "metadata": {
      "needs_background": "light"
     },
     "output_type": "display_data"
    }
   ],
   "source": [
    "plt.scatter(df['adjusted_sea_level(in)'], df['antarctica_ice_mass_change'], color='blue')\n",
    "plt.title('Adjusted Sea Level Vs Antarctica Ice Mass Change', fontsize=14)\n",
    "plt.xlabel('Adjusted Sea Level', fontsize=14)\n",
    "plt.ylabel('Antarctica Ice Mass Change', fontsize=14)\n",
    "plt.grid(True)\n",
    "\n",
    "### Add trendline\n",
    "z= np.polyfit(df['adjusted_sea_level(in)'], df['antarctica_ice_mass_change'], 1)\n",
    "p=np.poly1d(z)\n",
    "plt.plot(df['adjusted_sea_level(in)'], p(df['adjusted_sea_level(in)']), \"r--\")"
   ]
  },
  {
   "cell_type": "code",
   "execution_count": 22,
   "id": "70a0a0fb",
   "metadata": {},
   "outputs": [
    {
     "data": {
      "text/plain": [
       "[<matplotlib.lines.Line2D at 0x1f7db7a5cc8>]"
      ]
     },
     "execution_count": 22,
     "metadata": {},
     "output_type": "execute_result"
    },
    {
     "data": {
      "image/png": "[encoded data removed]",
      "text/plain": [
       "<Figure size 432x288 with 1 Axes>"
      ]
     },
     "metadata": {
      "needs_background": "light"
     },
     "output_type": "display_data"
    }
   ],
   "source": [
    "plt.scatter(df['adjusted_sea_level(in)'], df['greenland_ice_mass_change'], color='blue')\n",
    "plt.title('Adjusted Sea Level Vs Greenland Ice Mass Change', fontsize=14)\n",
    "plt.xlabel('Adjusted Sea Level', fontsize=14)\n",
    "plt.ylabel('Greenland Ice Mass Change', fontsize=14)\n",
    "plt.grid(True)\n",
    "\n",
    "### Add trendline\n",
    "z= np.polyfit(df['adjusted_sea_level(in)'], df['greenland_ice_mass_change'], 1)\n",
    "p=np.poly1d(z)\n",
    "plt.plot(df['adjusted_sea_level(in)'], p(df['adjusted_sea_level(in)']), \"r--\")"
   ]
  },
  {
   "cell_type": "code",
   "execution_count": 23,
   "id": "c6ba6a38",
   "metadata": {},
   "outputs": [
    {
     "data": {
      "text/plain": [
       "[<matplotlib.lines.Line2D at 0x1f7db8ec3c8>]"
      ]
     },
     "execution_count": 23,
     "metadata": {},
     "output_type": "execute_result"
    },
    {
     "data": {
      "image/png": "[encoded data removed]",
      "text/plain": [
       "<Figure size 432x288 with 1 Axes>"
      ]
     },
     "metadata": {
      "needs_background": "light"
     },
     "output_type": "display_data"
    }
   ],
   "source": [
    "plt.scatter(df['adjusted_sea_level(in)'], df['global_co2(in billion metric tons)'], color='blue')\n",
    "plt.title('Adjusted Sea Level Vs Global co2 Emissions', fontsize=14)\n",
    "plt.xlabel('Adjusted Sea Level', fontsize=14)\n",
    "plt.ylabel('Global co2 Emissions', fontsize=14)\n",
    "plt.grid(True)\n",
    "\n",
    "### Add trendline\n",
    "z= np.polyfit(df['adjusted_sea_level(in)'], df['global_co2(in billion metric tons)'], 1)\n",
    "p=np.poly1d(z)\n",
    "plt.plot(df['adjusted_sea_level(in)'], p(df['adjusted_sea_level(in)']), \"r--\")"
   ]
  },
  {
   "cell_type": "code",
   "execution_count": 24,
   "id": "00ca00d7",
   "metadata": {},
   "outputs": [
    {
     "data": {
      "text/plain": [
       "[<matplotlib.lines.Line2D at 0x1f7db985c48>]"
      ]
     },
     "execution_count": 24,
     "metadata": {},
     "output_type": "execute_result"
    },
    {
     "data": {
      "image/png": "[encoded data removed]",
      "text/plain": [
       "<Figure size 432x288 with 1 Axes>"
      ]
     },
     "metadata": {
      "needs_background": "light"
     },
     "output_type": "display_data"
    }
   ],
   "source": [
    "plt.scatter(df['adjusted_sea_level(in)'], df['global_seasurface_temp_anomaly(celsius)'], color='blue')\n",
    "plt.title('Adjusted Sea Level Vs Global Seasurface Temperature Anomaly', fontsize=14)\n",
    "plt.xlabel('Adjusted Sea Level', fontsize=14)\n",
    "plt.ylabel('Global Seasurface Temperature Anomaly', fontsize=14)\n",
    "plt.grid(True)\n",
    "\n",
    "### Add trendline\n",
    "z= np.polyfit(df['adjusted_sea_level(in)'], df['global_seasurface_temp_anomaly(celsius)'], 1)\n",
    "p=np.poly1d(z)\n",
    "plt.plot(df['adjusted_sea_level(in)'], p(df['adjusted_sea_level(in)']), \"r--\")\n",
    "\n"
   ]
  },
  {
   "cell_type": "code",
   "execution_count": 25,
   "id": "cb779de7",
   "metadata": {},
   "outputs": [
    {
     "data": {
      "text/html": [
       "<div>\n",
       "<style scoped>\n",
       "    .dataframe tbody tr th:only-of-type {\n",
       "        vertical-align: middle;\n",
       "    }\n",
       "\n",
       "    .dataframe tbody tr th {\n",
       "        vertical-align: top;\n",
       "    }\n",
       "\n",
       "    .dataframe thead th {\n",
       "        text-align: right;\n",
       "    }\n",
       "</style>\n",
       "<table border=\"1\" class=\"dataframe\">\n",
       "  <thead>\n",
       "    <tr style=\"text-align: right;\">\n",
       "      <th></th>\n",
       "      <th>Year</th>\n",
       "      <th>adjusted_sea_level(in)</th>\n",
       "      <th>world_population</th>\n",
       "      <th>global_surface_temp_anomaly(celsius)</th>\n",
       "      <th>antarctica_ice_mass_change</th>\n",
       "      <th>greenland_ice_mass_change</th>\n",
       "      <th>global_co2(in billion metric tons)</th>\n",
       "      <th>global_seasurface_temp_anomaly(celsius)</th>\n",
       "    </tr>\n",
       "  </thead>\n",
       "  <tbody>\n",
       "    <tr>\n",
       "      <th>Year</th>\n",
       "      <td>1.000000</td>\n",
       "      <td>0.981313</td>\n",
       "      <td>0.999921</td>\n",
       "      <td>0.885671</td>\n",
       "      <td>-0.951895</td>\n",
       "      <td>-0.955437</td>\n",
       "      <td>0.976646</td>\n",
       "      <td>0.880996</td>\n",
       "    </tr>\n",
       "    <tr>\n",
       "      <th>adjusted_sea_level(in)</th>\n",
       "      <td>0.981313</td>\n",
       "      <td>1.000000</td>\n",
       "      <td>0.980678</td>\n",
       "      <td>0.837244</td>\n",
       "      <td>-0.917731</td>\n",
       "      <td>-0.935207</td>\n",
       "      <td>0.973628</td>\n",
       "      <td>0.830638</td>\n",
       "    </tr>\n",
       "    <tr>\n",
       "      <th>world_population</th>\n",
       "      <td>0.999921</td>\n",
       "      <td>0.980678</td>\n",
       "      <td>1.000000</td>\n",
       "      <td>0.885213</td>\n",
       "      <td>-0.955573</td>\n",
       "      <td>-0.958716</td>\n",
       "      <td>0.975860</td>\n",
       "      <td>0.882784</td>\n",
       "    </tr>\n",
       "    <tr>\n",
       "      <th>global_surface_temp_anomaly(celsius)</th>\n",
       "      <td>0.885671</td>\n",
       "      <td>0.837244</td>\n",
       "      <td>0.885213</td>\n",
       "      <td>1.000000</td>\n",
       "      <td>-0.843224</td>\n",
       "      <td>-0.823278</td>\n",
       "      <td>0.817295</td>\n",
       "      <td>0.914998</td>\n",
       "    </tr>\n",
       "    <tr>\n",
       "      <th>antarctica_ice_mass_change</th>\n",
       "      <td>-0.951895</td>\n",
       "      <td>-0.917731</td>\n",
       "      <td>-0.955573</td>\n",
       "      <td>-0.843224</td>\n",
       "      <td>1.000000</td>\n",
       "      <td>0.992832</td>\n",
       "      <td>-0.906721</td>\n",
       "      <td>-0.893282</td>\n",
       "    </tr>\n",
       "    <tr>\n",
       "      <th>greenland_ice_mass_change</th>\n",
       "      <td>-0.955437</td>\n",
       "      <td>-0.935207</td>\n",
       "      <td>-0.958716</td>\n",
       "      <td>-0.823278</td>\n",
       "      <td>0.992832</td>\n",
       "      <td>1.000000</td>\n",
       "      <td>-0.922752</td>\n",
       "      <td>-0.861771</td>\n",
       "    </tr>\n",
       "    <tr>\n",
       "      <th>global_co2(in billion metric tons)</th>\n",
       "      <td>0.976646</td>\n",
       "      <td>0.973628</td>\n",
       "      <td>0.975860</td>\n",
       "      <td>0.817295</td>\n",
       "      <td>-0.906721</td>\n",
       "      <td>-0.922752</td>\n",
       "      <td>1.000000</td>\n",
       "      <td>0.815854</td>\n",
       "    </tr>\n",
       "    <tr>\n",
       "      <th>global_seasurface_temp_anomaly(celsius)</th>\n",
       "      <td>0.880996</td>\n",
       "      <td>0.830638</td>\n",
       "      <td>0.882784</td>\n",
       "      <td>0.914998</td>\n",
       "      <td>-0.893282</td>\n",
       "      <td>-0.861771</td>\n",
       "      <td>0.815854</td>\n",
       "      <td>1.000000</td>\n",
       "    </tr>\n",
       "  </tbody>\n",
       "</table>\n",
       "</div>"
      ],
      "text/plain": [
       "                                             Year  adjusted_sea_level(in)  \\\n",
       "Year                                     1.000000                0.981313   \n",
       "adjusted_sea_level(in)                   0.981313                1.000000   \n",
       "world_population                         0.999921                0.980678   \n",
       "global_surface_temp_anomaly(celsius)     0.885671                0.837244   \n",
       "antarctica_ice_mass_change              -0.951895               -0.917731   \n",
       "greenland_ice_mass_change               -0.955437               -0.935207   \n",
       "global_co2(in billion metric tons)       0.976646                0.973628   \n",
       "global_seasurface_temp_anomaly(celsius)  0.880996                0.830638   \n",
       "\n",
       "                                         world_population  \\\n",
       "Year                                             0.999921   \n",
       "adjusted_sea_level(in)                           0.980678   \n",
       "world_population                                 1.000000   \n",
       "global_surface_temp_anomaly(celsius)             0.885213   \n",
       "antarctica_ice_mass_change                      -0.955573   \n",
       "greenland_ice_mass_change                       -0.958716   \n",
       "global_co2(in billion metric tons)               0.975860   \n",
       "global_seasurface_temp_anomaly(celsius)          0.882784   \n",
       "\n",
       "                                         global_surface_temp_anomaly(celsius)  \\\n",
       "Year                                                                 0.885671   \n",
       "adjusted_sea_level(in)                                               0.837244   \n",
       "world_population                                                     0.885213   \n",
       "global_surface_temp_anomaly(celsius)                                 1.000000   \n",
       "antarctica_ice_mass_change                                          -0.843224   \n",
       "greenland_ice_mass_change                                           -0.823278   \n",
       "global_co2(in billion metric tons)                                   0.817295   \n",
       "global_seasurface_temp_anomaly(celsius)                              0.914998   \n",
       "\n",
       "                                         antarctica_ice_mass_change  \\\n",
       "Year                                                      -0.951895   \n",
       "adjusted_sea_level(in)                                    -0.917731   \n",
       "world_population                                          -0.955573   \n",
       "global_surface_temp_anomaly(celsius)                      -0.843224   \n",
       "antarctica_ice_mass_change                                 1.000000   \n",
       "greenland_ice_mass_change                                  0.992832   \n",
       "global_co2(in billion metric tons)                        -0.906721   \n",
       "global_seasurface_temp_anomaly(celsius)                   -0.893282   \n",
       "\n",
       "                                         greenland_ice_mass_change  \\\n",
       "Year                                                     -0.955437   \n",
       "adjusted_sea_level(in)                                   -0.935207   \n",
       "world_population                                         -0.958716   \n",
       "global_surface_temp_anomaly(celsius)                     -0.823278   \n",
       "antarctica_ice_mass_change                                0.992832   \n",
       "greenland_ice_mass_change                                 1.000000   \n",
       "global_co2(in billion metric tons)                       -0.922752   \n",
       "global_seasurface_temp_anomaly(celsius)                  -0.861771   \n",
       "\n",
       "                                         global_co2(in billion metric tons)  \\\n",
       "Year                                                               0.976646   \n",
       "adjusted_sea_level(in)                                             0.973628   \n",
       "world_population                                                   0.975860   \n",
       "global_surface_temp_anomaly(celsius)                               0.817295   \n",
       "antarctica_ice_mass_change                                        -0.906721   \n",
       "greenland_ice_mass_change                                         -0.922752   \n",
       "global_co2(in billion metric tons)                                 1.000000   \n",
       "global_seasurface_temp_anomaly(celsius)                            0.815854   \n",
       "\n",
       "                                         global_seasurface_temp_anomaly(celsius)  \n",
       "Year                                                                    0.880996  \n",
       "adjusted_sea_level(in)                                                  0.830638  \n",
       "world_population                                                        0.882784  \n",
       "global_surface_temp_anomaly(celsius)                                    0.914998  \n",
       "antarctica_ice_mass_change                                             -0.893282  \n",
       "greenland_ice_mass_change                                              -0.861771  \n",
       "global_co2(in billion metric tons)                                      0.815854  \n",
       "global_seasurface_temp_anomaly(celsius)                                 1.000000  "
      ]
     },
     "execution_count": 25,
     "metadata": {},
     "output_type": "execute_result"
    }
   ],
   "source": [
    "corr = df.corr()\n",
    "corr"
   ]
  },
  {
   "cell_type": "code",
   "execution_count": 26,
   "id": "9be19836",
   "metadata": {},
   "outputs": [
    {
     "data": {
      "text/plain": [
       "<seaborn.axisgrid.PairGrid at 0x1f7db957708>"
      ]
     },
     "execution_count": 26,
     "metadata": {},
     "output_type": "execute_result"
    },
    {
     "data": {
      "image/png": "[encoded data removed]",
      "text/plain": [
       "<Figure size 1440x1440 with 72 Axes>"
      ]
     },
     "metadata": {
      "needs_background": "light"
     },
     "output_type": "display_data"
    }
   ],
   "source": [
    "# More optional EDA\n",
    "pairplot(df)"
   ]
  },
  {
   "cell_type": "code",
   "execution_count": 27,
   "id": "a6ba5953",
   "metadata": {},
   "outputs": [
    {
     "data": {
      "image/png": "[encoded data removed]",
      "text/plain": [
       "<Figure size 432x288 with 2 Axes>"
      ]
     },
     "metadata": {
      "needs_background": "light"
     },
     "output_type": "display_data"
    }
   ],
   "source": [
    "# More optional EDA\n",
    "fig= plot_corr(corr,xnames=corr.columns)"
   ]
  },
  {
   "cell_type": "code",
   "execution_count": 28,
   "id": "853b33ef",
   "metadata": {},
   "outputs": [
    {
     "name": "stdout",
     "output_type": "stream",
     "text": [
      "    world_population  global_surface_temp_anomaly(celsius)  \\\n",
      "23      5.905046e+09                                  0.64   \n",
      "\n",
      "    antarctica_ice_mass_change  greenland_ice_mass_change  \\\n",
      "23                  176.892977                 262.886284   \n",
      "\n",
      "    global_co2(in billion metric tons)  \\\n",
      "23                                24.3   \n",
      "\n",
      "    global_seasurface_temp_anomaly(celsius)  \n",
      "23                                    0.354  \n",
      "    world_population  global_surface_temp_anomaly(celsius)  \\\n",
      "14      6.623518e+09                                  0.98   \n",
      "\n",
      "    antarctica_ice_mass_change  greenland_ice_mass_change  \\\n",
      "14                 -226.623443                -633.429964   \n",
      "\n",
      "    global_co2(in billion metric tons)  \\\n",
      "14                               30.58   \n",
      "\n",
      "    global_seasurface_temp_anomaly(celsius)  \n",
      "14                                    0.426  \n",
      "    adjusted_sea_level(in)\n",
      "23                7.059055\n",
      "    adjusted_sea_level(in)\n",
      "14                7.885827\n"
     ]
    }
   ],
   "source": [
    "X = pd.DataFrame(df, columns = ['world_population', 'global_surface_temp_anomaly(celsius)', 'antarctica_ice_mass_change', 'greenland_ice_mass_change', 'global_co2(in billion metric tons)', 'global_seasurface_temp_anomaly(celsius)'])\n",
    "y = pd.DataFrame(df, columns=['adjusted_sea_level(in)'])\n",
    "\n",
    "# WITH a random_state parameter:\n",
    "#  (Same split every time! Note you can change the random state to any integer.)\n",
    "X_train, X_test, y_train, y_test = train_test_split(X, y, random_state=1)\n",
    "# Print the first element of each object.\n",
    "print(X_train.head(1))\n",
    "print(X_test.head(1))\n",
    "print(y_train.head(1))\n",
    "print(y_test.head(1))"
   ]
  },
  {
   "cell_type": "code",
   "execution_count": 29,
   "id": "fe0499a0",
   "metadata": {},
   "outputs": [],
   "source": [
    "# Create linear regression model\n",
    "lm1 = LinearRegression()\n",
    "\n",
    "# Fit linear regression\n",
    "lm1.fit(X_train, y_train)\n",
    "\n",
    "# Make prediction on the testing data\n",
    "pred = lm1.predict(X_test)"
   ]
  },
  {
   "cell_type": "code",
   "execution_count": 30,
   "id": "3277bd39",
   "metadata": {},
   "outputs": [
    {
     "name": "stdout",
     "output_type": "stream",
     "text": [
      "[-4.97303152]\n",
      "[[ 2.13875300e-09 -5.18066447e-01  1.10013233e-03 -5.22487277e-04\n",
      "  -2.72282974e-02  3.25414498e-01]]\n"
     ]
    }
   ],
   "source": [
    "# Get the slope and intercept of the line best fit.\n",
    "print(lm1.intercept_)\n",
    "\n",
    "\n",
    "print(lm1.coef_)"
   ]
  },
  {
   "cell_type": "code",
   "execution_count": 31,
   "id": "626add4e",
   "metadata": {},
   "outputs": [
    {
     "name": "stdout",
     "output_type": "stream",
     "text": [
      "0.13886441411816552\n",
      "0.9723386151505964\n"
     ]
    }
   ],
   "source": [
    "# Calculate the Root Mean Square Error between the actual & predicted\n",
    "test_set_rmse = (np.sqrt(mean_squared_error(y_test, pred)))\n",
    "\n",
    "# Calculate the R^2 or coefficent of determination between the actual & predicted\n",
    "test_set_r2 = r2_score(y_test, pred)\n",
    "\n",
    "# Note that for rmse, the lower that value is, the better the fit\n",
    "print(test_set_rmse)\n",
    "# The closer towards 1, the better the fit\n",
    "print(test_set_r2)"
   ]
  },
  {
   "cell_type": "code",
   "execution_count": 32,
   "id": "d72901de",
   "metadata": {},
   "outputs": [
    {
     "name": "stdout",
     "output_type": "stream",
     "text": [
      "    adjusted_sea_level(in)  Predicted  Residuals\n",
      "14                7.885827   8.072961  -0.187134\n",
      "21                7.003937   7.009046  -0.005109\n",
      "18                7.366142   7.404852  -0.038711\n",
      "20                7.055118   7.180467  -0.125349\n",
      "25                6.622047   6.435921   0.186126\n",
      "19                7.271654   7.294181  -0.022528\n",
      "3                 9.087686   9.138460  -0.050774\n",
      "10                8.834646   8.581106   0.253540\n"
     ]
    }
   ],
   "source": [
    "df_results = y_test\n",
    "df_results['Predicted'] = pred.ravel()\n",
    "df_results['Residuals'] = abs(df_results['adjusted_sea_level(in)']) - abs(df_results['Predicted'])\n",
    "print(df_results)"
   ]
  },
  {
   "cell_type": "code",
   "execution_count": 33,
   "id": "1e93d818",
   "metadata": {},
   "outputs": [],
   "source": [
    "### revamped model with Greenland, Co2, Surface temp ###\n",
    "X = pd.DataFrame(df, columns = ['global_surface_temp_anomaly(celsius)', 'greenland_ice_mass_change', 'global_co2(in billion metric tons)'])\n",
    "y = pd.DataFrame(df, columns=['adjusted_sea_level(in)'])\n"
   ]
  },
  {
   "cell_type": "code",
   "execution_count": 34,
   "id": "fdfa498c",
   "metadata": {},
   "outputs": [
    {
     "name": "stdout",
     "output_type": "stream",
     "text": [
      "    global_surface_temp_anomaly(celsius)  greenland_ice_mass_change  \\\n",
      "23                                  0.64                 262.886284   \n",
      "\n",
      "    global_co2(in billion metric tons)  \n",
      "23                                24.3  \n",
      "    global_surface_temp_anomaly(celsius)  greenland_ice_mass_change  \\\n",
      "14                                  0.98                -633.429964   \n",
      "\n",
      "    global_co2(in billion metric tons)  \n",
      "14                               30.58  \n",
      "    adjusted_sea_level(in)\n",
      "23                7.059055\n",
      "    adjusted_sea_level(in)\n",
      "14                7.885827\n"
     ]
    }
   ],
   "source": [
    "# WITH a random_state parameter:\n",
    "#  (Same split every time! Note you can change the random state to any integer.)\n",
    "X_train, X_test, y_train, y_test = train_test_split(X, y, random_state=1)\n",
    "# Print the first element of each object.\n",
    "print(X_train.head(1))\n",
    "print(X_test.head(1))\n",
    "print(y_train.head(1))\n",
    "print(y_test.head(1))"
   ]
  },
  {
   "cell_type": "code",
   "execution_count": 35,
   "id": "1c7dd381",
   "metadata": {},
   "outputs": [],
   "source": [
    "# Create linear regression model\n",
    "lm2 = LinearRegression()\n",
    "\n",
    "# Fit linear regression\n",
    "lm2.fit(X_train, y_train)\n",
    "\n",
    "# Make prediction on the testing data\n",
    "pred = lm2.predict(X_test)"
   ]
  },
  {
   "cell_type": "code",
   "execution_count": 36,
   "id": "9fdcce21",
   "metadata": {},
   "outputs": [
    {
     "name": "stdout",
     "output_type": "stream",
     "text": [
      "[3.24103213]\n"
     ]
    }
   ],
   "source": [
    "# Get the slope and intercept of the line best fit.\n",
    "print(lm2.intercept_)"
   ]
  },
  {
   "cell_type": "code",
   "execution_count": 37,
   "id": "03418b87",
   "metadata": {},
   "outputs": [
    {
     "name": "stdout",
     "output_type": "stream",
     "text": [
      "[[ 1.80675921e-01 -1.76801539e-04  1.44696647e-01]]\n"
     ]
    }
   ],
   "source": [
    "print(lm2.coef_)"
   ]
  },
  {
   "cell_type": "code",
   "execution_count": 38,
   "id": "b9627da8",
   "metadata": {},
   "outputs": [
    {
     "name": "stdout",
     "output_type": "stream",
     "text": [
      "0.17092963576441636\n",
      "0.9580891256701187\n"
     ]
    }
   ],
   "source": [
    "# Calculate the Root Mean Square Error between the actual & predicted\n",
    "test_set_rmse = (np.sqrt(mean_squared_error(y_test, pred)))\n",
    "\n",
    "# Calculate the R^2 or coefficent of determination between the actual & predicted\n",
    "test_set_r2 = r2_score(y_test, pred)\n",
    "\n",
    "# Note that for rmse, the lower that value is, the better the fit\n",
    "print(test_set_rmse)\n",
    "# The closer towards 1, the better the fit\n",
    "print(test_set_r2)"
   ]
  },
  {
   "cell_type": "code",
   "execution_count": 39,
   "id": "f73f7893",
   "metadata": {},
   "outputs": [
    {
     "name": "stdout",
     "output_type": "stream",
     "text": [
      "    adjusted_sea_level(in)  Predicted  Residuals\n",
      "14                7.885827   7.954909  -0.069083\n",
      "21                7.003937   6.907146   0.096791\n",
      "18                7.366142   7.179156   0.186986\n",
      "20                7.055118   6.985456   0.069662\n",
      "25                6.622047   6.721739  -0.099691\n",
      "19                7.271654   7.063598   0.208056\n",
      "3                 9.087686   9.300312  -0.212626\n",
      "10                8.834646   8.549440   0.285206\n"
     ]
    }
   ],
   "source": [
    "df_results = y_test\n",
    "df_results['Predicted'] = pred.ravel()\n",
    "df_results['Residuals'] = abs(df_results['adjusted_sea_level(in)']) - abs(df_results['Predicted'])\n",
    "print(df_results)"
   ]
  },
  {
   "cell_type": "code",
   "execution_count": 49,
   "id": "abc4bdbe",
   "metadata": {},
   "outputs": [
    {
     "data": {
      "text/plain": [
       "52.66454999999996"
      ]
     },
     "execution_count": 49,
     "metadata": {},
     "output_type": "execute_result"
    }
   ],
   "source": [
    "### years from now analysis --- year 2045 ###\n",
    "Year = 2045\n",
    "\n",
    "### Co2 ### Equation: Global Co2(In Billion Metric Tons) = 0.58499*Year + -1143.64\n",
    "CO2_2122 = 0.58499*(Year)+ (-1143.64)\n",
    "CO2_2122"
   ]
  },
  {
   "cell_type": "code",
   "execution_count": 50,
   "id": "60323274",
   "metadata": {},
   "outputs": [
    {
     "data": {
      "text/plain": [
       "-8037.775000000023"
      ]
     },
     "execution_count": 50,
     "metadata": {},
     "output_type": "execute_result"
    }
   ],
   "source": [
    "### Greeanland ### Equation: Greenland Ice Mass Change = -175.395*Year + 350645\n",
    "Greenland_2122 = -175.395*Year + 350645\n",
    "Greenland_2122"
   ]
  },
  {
   "cell_type": "code",
   "execution_count": 51,
   "id": "8e7ee7ab",
   "metadata": {},
   "outputs": [
    {
     "data": {
      "text/plain": [
       "1.200000499999998"
      ]
     },
     "execution_count": 51,
     "metadata": {},
     "output_type": "execute_result"
    }
   ],
   "source": [
    "### Surface Temp ### Equation: Global Surface Temp Anomaly(Celsius) = 0.0117089*Year + -22.7447\n",
    "\n",
    "Surface_2122 = 0.0117089*Year + -22.7447\n",
    "Surface_2122"
   ]
  },
  {
   "cell_type": "code",
   "execution_count": 52,
   "id": "d33817f9",
   "metadata": {},
   "outputs": [
    {
     "name": "stdout",
     "output_type": "stream",
     "text": [
      "[[ 1.80675921e-01 -1.76801539e-04  1.44696647e-01]]\n",
      "[3.24103213]\n"
     ]
    }
   ],
   "source": [
    "print(lm2.coef_)\n",
    "print(lm2.intercept_)"
   ]
  },
  {
   "cell_type": "code",
   "execution_count": 54,
   "id": "1ee57b00",
   "metadata": {},
   "outputs": [
    {
     "data": {
      "text/plain": [
       "12.499318116437536"
      ]
     },
     "execution_count": 54,
     "metadata": {},
     "output_type": "execute_result"
    }
   ],
   "source": [
    "#### Predict 2122 adjusted sea level #### Y = mx1 + mx2 + mx3 + b ### Surface, Greenland, Co2\n",
    "Adjusted_SeaLevel_2122 = (Surface_2122_coef*Surface_2122) + (Greenland_2122_coef*Greenland_2122) + (Co2_2122_coef*CO2_2122) + intercept\n",
    "Adjusted_SeaLevel_2122"
   ]
  },
  {
   "cell_type": "code",
   "execution_count": 55,
   "id": "37a1151d",
   "metadata": {},
   "outputs": [
    {
     "data": {
      "text/plain": [
       "67.28929999999991"
      ]
     },
     "execution_count": 55,
     "metadata": {},
     "output_type": "execute_result"
    }
   ],
   "source": [
    "### years from now analysis --- year 2070 ###\n",
    "Year = 2070\n",
    "\n",
    "### Co2 ### Equation: Global Co2(In Billion Metric Tons) = 0.58499*Year + -1143.64\n",
    "CO2_2122 = 0.58499*(Year)+ (-1143.64)\n",
    "CO2_2122"
   ]
  },
  {
   "cell_type": "code",
   "execution_count": 56,
   "id": "c46520af",
   "metadata": {},
   "outputs": [
    {
     "data": {
      "text/plain": [
       "-12422.650000000023"
      ]
     },
     "execution_count": 56,
     "metadata": {},
     "output_type": "execute_result"
    }
   ],
   "source": [
    "### Greeanland ### Equation: Greenland Ice Mass Change = -175.395*Year + 350645\n",
    "Greenland_2122 = -175.395*Year + 350645\n",
    "Greenland_2122"
   ]
  },
  {
   "cell_type": "code",
   "execution_count": 57,
   "id": "a58c868e",
   "metadata": {},
   "outputs": [
    {
     "data": {
      "text/plain": [
       "1.492722999999998"
      ]
     },
     "execution_count": 57,
     "metadata": {},
     "output_type": "execute_result"
    }
   ],
   "source": [
    "### Surface Temp ### Equation: Global Surface Temp Anomaly(Celsius) = 0.0117089*Year + -22.7447\n",
    "\n",
    "Surface_2122 = 0.0117089*Year + -22.7447\n",
    "Surface_2122"
   ]
  },
  {
   "cell_type": "code",
   "execution_count": 58,
   "id": "c803c365",
   "metadata": {},
   "outputs": [
    {
     "name": "stdout",
     "output_type": "stream",
     "text": [
      "[[ 1.80675921e-01 -1.76801539e-04  1.44696647e-01]]\n",
      "[3.24103213]\n"
     ]
    }
   ],
   "source": [
    "print(lm2.coef_)\n",
    "print(lm2.intercept_)"
   ]
  },
  {
   "cell_type": "code",
   "execution_count": 59,
   "id": "5d185732",
   "metadata": {},
   "outputs": [
    {
     "data": {
      "text/plain": [
       "15.443610960258326"
      ]
     },
     "execution_count": 59,
     "metadata": {},
     "output_type": "execute_result"
    }
   ],
   "source": [
    "#### Predict 2122 adjusted sea level #### Y = mx1 + mx2 + mx3 + b ### Surface, Greenland, Co2\n",
    "Adjusted_SeaLevel_2122 = (Surface_2122_coef*Surface_2122) + (Greenland_2122_coef*Greenland_2122) + (Co2_2122_coef*CO2_2122) + intercept\n",
    "Adjusted_SeaLevel_2122"
   ]
  },
  {
   "cell_type": "code",
   "execution_count": 60,
   "id": "5e9e8d19",
   "metadata": {},
   "outputs": [
    {
     "data": {
      "text/plain": [
       "81.91404999999986"
      ]
     },
     "execution_count": 60,
     "metadata": {},
     "output_type": "execute_result"
    }
   ],
   "source": [
    "### years from now analysis --- year 2095 ###\n",
    "Year = 2095\n",
    "\n",
    "### Co2 ### Equation: Global Co2(In Billion Metric Tons) = 0.58499*Year + -1143.64\n",
    "CO2_2122 = 0.58499*(Year)+ (-1143.64)\n",
    "CO2_2122"
   ]
  },
  {
   "cell_type": "code",
   "execution_count": 61,
   "id": "d5556ecb",
   "metadata": {},
   "outputs": [
    {
     "data": {
      "text/plain": [
       "-16807.525000000023"
      ]
     },
     "execution_count": 61,
     "metadata": {},
     "output_type": "execute_result"
    }
   ],
   "source": [
    "### Greeanland ### Equation: Greenland Ice Mass Change = -175.395*Year + 350645\n",
    "Greenland_2122 = -175.395*Year + 350645\n",
    "Greenland_2122"
   ]
  },
  {
   "cell_type": "code",
   "execution_count": 62,
   "id": "8ef8a2a8",
   "metadata": {},
   "outputs": [
    {
     "data": {
      "text/plain": [
       "1.785445499999998"
      ]
     },
     "execution_count": 62,
     "metadata": {},
     "output_type": "execute_result"
    }
   ],
   "source": [
    "### Surface Temp ### Equation: Global Surface Temp Anomaly(Celsius) = 0.0117089*Year + -22.7447\n",
    "\n",
    "Surface_2122 = 0.0117089*Year + -22.7447\n",
    "Surface_2122"
   ]
  },
  {
   "cell_type": "code",
   "execution_count": 63,
   "id": "8279f85c",
   "metadata": {},
   "outputs": [
    {
     "name": "stdout",
     "output_type": "stream",
     "text": [
      "[[ 1.80675921e-01 -1.76801539e-04  1.44696647e-01]]\n",
      "[3.24103213]\n"
     ]
    }
   ],
   "source": [
    "print(lm2.coef_)\n",
    "print(lm2.intercept_)"
   ]
  },
  {
   "cell_type": "code",
   "execution_count": 64,
   "id": "fed48332",
   "metadata": {},
   "outputs": [
    {
     "data": {
      "text/plain": [
       "18.387903804079116"
      ]
     },
     "execution_count": 64,
     "metadata": {},
     "output_type": "execute_result"
    }
   ],
   "source": [
    "#### Predict 2122 adjusted sea level #### Y = mx1 + mx2 + mx3 + b ### Surface, Greenland, Co2\n",
    "Adjusted_SeaLevel_2122 = (Surface_2122_coef*Surface_2122) + (Greenland_2122_coef*Greenland_2122) + (Co2_2122_coef*CO2_2122) + intercept\n",
    "Adjusted_SeaLevel_2122"
   ]
  },
  {
   "cell_type": "code",
   "execution_count": null,
   "id": "182cdafe",
   "metadata": {},
   "outputs": [],
   "source": []
  }
 ],
 "metadata": {
  "kernelspec": {
   "display_name": "mlenv",
   "language": "python",
   "name": "mlenv"
  },
  "language_info": {
   "codemirror_mode": {
    "name": "ipython",
    "version": 3
   },
   "file_extension": ".py",
   "mimetype": "text/x-python",
   "name": "python",
   "nbconvert_exporter": "python",
   "pygments_lexer": "ipython3",
   "version": "3.7.11"
  }
 },
 "nbformat": 4,
 "nbformat_minor": 5
}
