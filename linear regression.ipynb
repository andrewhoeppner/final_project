{
 "cells": [
  {
   "cell_type": "code",
   "execution_count": 1,
   "id": "8f027e6f",
   "metadata": {},
   "outputs": [],
   "source": [
    "import pandas as pd\n",
    "from pathlib import Path\n",
    "import matplotlib.pyplot as plt\n",
    "from sklearn.linear_model import LinearRegression"
   ]
  },
  {
   "cell_type": "code",
   "execution_count": 2,
   "id": "56fccb4a",
   "metadata": {},
   "outputs": [
    {
     "data": {
      "text/html": [
       "<div>\n",
       "<style scoped>\n",
       "    .dataframe tbody tr th:only-of-type {\n",
       "        vertical-align: middle;\n",
       "    }\n",
       "\n",
       "    .dataframe tbody tr th {\n",
       "        vertical-align: top;\n",
       "    }\n",
       "\n",
       "    .dataframe thead th {\n",
       "        text-align: right;\n",
       "    }\n",
       "</style>\n",
       "<table border=\"1\" class=\"dataframe\">\n",
       "  <thead>\n",
       "    <tr style=\"text-align: right;\">\n",
       "      <th></th>\n",
       "      <th>Year</th>\n",
       "      <th>TotalWeightedObservations</th>\n",
       "      <th>GMSL_noGIA</th>\n",
       "      <th>StdDevGMSL_noGIA</th>\n",
       "      <th>SmoothedGSML_noGIA</th>\n",
       "      <th>GMSL_GIA</th>\n",
       "      <th>StdDevGMSL_GIA</th>\n",
       "      <th>SmoothedGSML_GIA</th>\n",
       "      <th>SmoothedGSML_GIA_sigremoved</th>\n",
       "    </tr>\n",
       "  </thead>\n",
       "  <tbody>\n",
       "    <tr>\n",
       "      <th>0</th>\n",
       "      <td>1993</td>\n",
       "      <td>327401.31</td>\n",
       "      <td>-38.59</td>\n",
       "      <td>89.86</td>\n",
       "      <td>-38.76</td>\n",
       "      <td>-38.59</td>\n",
       "      <td>89.86</td>\n",
       "      <td>-38.75</td>\n",
       "      <td>-38.57</td>\n",
       "    </tr>\n",
       "    <tr>\n",
       "      <th>1</th>\n",
       "      <td>1993</td>\n",
       "      <td>324498.41</td>\n",
       "      <td>-41.97</td>\n",
       "      <td>90.86</td>\n",
       "      <td>-39.78</td>\n",
       "      <td>-41.97</td>\n",
       "      <td>90.86</td>\n",
       "      <td>-39.77</td>\n",
       "      <td>-39.11</td>\n",
       "    </tr>\n",
       "    <tr>\n",
       "      <th>2</th>\n",
       "      <td>1993</td>\n",
       "      <td>333018.19</td>\n",
       "      <td>-41.93</td>\n",
       "      <td>87.27</td>\n",
       "      <td>-39.62</td>\n",
       "      <td>-41.91</td>\n",
       "      <td>87.27</td>\n",
       "      <td>-39.61</td>\n",
       "      <td>-38.58</td>\n",
       "    </tr>\n",
       "    <tr>\n",
       "      <th>3</th>\n",
       "      <td>1993</td>\n",
       "      <td>297483.19</td>\n",
       "      <td>-42.67</td>\n",
       "      <td>90.75</td>\n",
       "      <td>-39.67</td>\n",
       "      <td>-42.65</td>\n",
       "      <td>90.74</td>\n",
       "      <td>-39.64</td>\n",
       "      <td>-38.34</td>\n",
       "    </tr>\n",
       "    <tr>\n",
       "      <th>4</th>\n",
       "      <td>1993</td>\n",
       "      <td>321635.81</td>\n",
       "      <td>-37.86</td>\n",
       "      <td>90.26</td>\n",
       "      <td>-38.75</td>\n",
       "      <td>-37.83</td>\n",
       "      <td>90.25</td>\n",
       "      <td>-38.72</td>\n",
       "      <td>-37.21</td>\n",
       "    </tr>\n",
       "  </tbody>\n",
       "</table>\n",
       "</div>"
      ],
      "text/plain": [
       "   Year  TotalWeightedObservations  GMSL_noGIA  StdDevGMSL_noGIA  \\\n",
       "0  1993                  327401.31      -38.59             89.86   \n",
       "1  1993                  324498.41      -41.97             90.86   \n",
       "2  1993                  333018.19      -41.93             87.27   \n",
       "3  1993                  297483.19      -42.67             90.75   \n",
       "4  1993                  321635.81      -37.86             90.26   \n",
       "\n",
       "   SmoothedGSML_noGIA  GMSL_GIA  StdDevGMSL_GIA  SmoothedGSML_GIA  \\\n",
       "0              -38.76    -38.59           89.86            -38.75   \n",
       "1              -39.78    -41.97           90.86            -39.77   \n",
       "2              -39.62    -41.91           87.27            -39.61   \n",
       "3              -39.67    -42.65           90.74            -39.64   \n",
       "4              -38.75    -37.83           90.25            -38.72   \n",
       "\n",
       "   SmoothedGSML_GIA_sigremoved  \n",
       "0                       -38.57  \n",
       "1                       -39.11  \n",
       "2                       -38.58  \n",
       "3                       -38.34  \n",
       "4                       -37.21  "
      ]
     },
     "execution_count": 2,
     "metadata": {},
     "output_type": "execute_result"
    }
   ],
   "source": [
    "df = pd.read_csv(Path('sealevel.csv'))\n",
    "df.head()"
   ]
  },
  {
   "cell_type": "code",
   "execution_count": 4,
   "id": "d87bb619",
   "metadata": {},
   "outputs": [
    {
     "data": {
      "image/png": "[encoded data removed]",
      "text/plain": [
       "<Figure size 432x288 with 1 Axes>"
      ]
     },
     "metadata": {
      "needs_background": "light"
     },
     "output_type": "display_data"
    }
   ],
   "source": [
    "plt.scatter(df.Year, df.GMSL_noGIA)\n",
    "plt.xlabel('Year')\n",
    "plt.ylabel('Not sure')\n",
    "plt.show()"
   ]
  },
  {
   "cell_type": "code",
   "execution_count": 5,
   "id": "85d00b89",
   "metadata": {},
   "outputs": [],
   "source": [
    "X = df.Year.values.reshape(-1, 1)"
   ]
  },
  {
   "cell_type": "code",
   "execution_count": 6,
   "id": "570ccd90",
   "metadata": {},
   "outputs": [
    {
     "data": {
      "text/plain": [
       "array([[1993],\n",
       "       [1993],\n",
       "       [1993],\n",
       "       [1993],\n",
       "       [1993]], dtype=int64)"
      ]
     },
     "execution_count": 6,
     "metadata": {},
     "output_type": "execute_result"
    }
   ],
   "source": [
    "X[:5]"
   ]
  },
  {
   "cell_type": "code",
   "execution_count": 7,
   "id": "4d19b9dc",
   "metadata": {},
   "outputs": [
    {
     "data": {
      "text/plain": [
       "(1048, 1)"
      ]
     },
     "execution_count": 7,
     "metadata": {},
     "output_type": "execute_result"
    }
   ],
   "source": [
    "X.shape"
   ]
  },
  {
   "cell_type": "code",
   "execution_count": 8,
   "id": "96aa17b4",
   "metadata": {},
   "outputs": [],
   "source": [
    "y = df.GMSL_noGIA\n"
   ]
  },
  {
   "cell_type": "code",
   "execution_count": 9,
   "id": "97f65243",
   "metadata": {},
   "outputs": [],
   "source": [
    "model = LinearRegression()"
   ]
  },
  {
   "cell_type": "code",
   "execution_count": 10,
   "id": "25c2ae2d",
   "metadata": {},
   "outputs": [
    {
     "data": {
      "text/plain": [
       "LinearRegression()"
      ]
     },
     "execution_count": 10,
     "metadata": {},
     "output_type": "execute_result"
    }
   ],
   "source": [
    "model.fit(X, y)"
   ]
  },
  {
   "cell_type": "code",
   "execution_count": 11,
   "id": "48db1871",
   "metadata": {},
   "outputs": [
    {
     "name": "stdout",
     "output_type": "stream",
     "text": [
      "(1048,)\n"
     ]
    }
   ],
   "source": [
    "y_pred = model.predict(X)\n",
    "print(y_pred.shape)"
   ]
  },
  {
   "cell_type": "code",
   "execution_count": 12,
   "id": "619d482e",
   "metadata": {},
   "outputs": [
    {
     "data": {
      "image/png": "[encoded data removed]",
      "text/plain": [
       "<Figure size 432x288 with 1 Axes>"
      ]
     },
     "metadata": {
      "needs_background": "light"
     },
     "output_type": "display_data"
    }
   ],
   "source": [
    "plt.scatter(X, y)\n",
    "plt.plot(X, y_pred, color='red')\n",
    "plt.show()"
   ]
  },
  {
   "cell_type": "code",
   "execution_count": 13,
   "id": "30e09054",
   "metadata": {},
   "outputs": [
    {
     "name": "stdout",
     "output_type": "stream",
     "text": [
      "[3.11635449]\n",
      "-6249.075073980254\n"
     ]
    }
   ],
   "source": [
    "print(model.coef_)\n",
    "print(model.intercept_)"
   ]
  },
  {
   "cell_type": "code",
   "execution_count": null,
   "id": "8a964454",
   "metadata": {},
   "outputs": [],
   "source": []
  },
  {
   "cell_type": "code",
   "execution_count": null,
   "id": "a5bd4ba3",
   "metadata": {},
   "outputs": [],
   "source": []
  }
 ],
 "metadata": {
  "kernelspec": {
   "display_name": "mlenv",
   "language": "python",
   "name": "mlenv"
  },
  "language_info": {
   "codemirror_mode": {
    "name": "ipython",
    "version": 3
   },
   "file_extension": ".py",
   "mimetype": "text/x-python",
   "name": "python",
   "nbconvert_exporter": "python",
   "pygments_lexer": "ipython3",
   "version": "3.7.11"
  }
 },
 "nbformat": 4,
 "nbformat_minor": 5
}
