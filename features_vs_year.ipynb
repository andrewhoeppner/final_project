{
 "cells": [
  {
   "cell_type": "code",
   "execution_count": 1,
   "id": "623f2ecd",
   "metadata": {},
   "outputs": [],
   "source": [
    "# Used for plotting data\n",
    "%matplotlib inline\n",
    "import matplotlib.pyplot as plt\n",
    "\n",
    "# Used for data storage and manipulation \n",
    "import numpy as np\n",
    "import pandas as pd\n",
    "\n",
    "# Used for Regression Modelling\n",
    "from sklearn.linear_model import LinearRegression\n",
    "from sklearn import linear_model\n",
    "from sklearn.model_selection import train_test_split\n",
    "\n",
    "# Used for Acc metrics\n",
    "from sklearn.metrics import mean_squared_error\n",
    "from sklearn.metrics import r2_score\n",
    "\n",
    "# For stepwise regression\n",
    "import statsmodels.api as sm\n",
    "\n",
    "# box plots\n",
    "import seaborn as sns\n",
    "# pairplot\n",
    "from seaborn import pairplot\n",
    "# Correlation plot\n",
    "from statsmodels.graphics.correlation import plot_corr"
   ]
  },
  {
   "cell_type": "code",
   "execution_count": 2,
   "id": "be07b0d1",
   "metadata": {},
   "outputs": [],
   "source": [
    "data = pd.read_excel(\"climatechangedata.xlsx\")"
   ]
  },
  {
   "cell_type": "code",
   "execution_count": 35,
   "id": "72ed1000",
   "metadata": {},
   "outputs": [],
   "source": [
    "# return only rows where the year is greater than 1992\n",
    "current = data[(data['Year'] > 1992)]"
   ]
  },
  {
   "cell_type": "code",
   "execution_count": 36,
   "id": "51b70518",
   "metadata": {},
   "outputs": [],
   "source": [
    "### model with Greenland, Co2, Surface temp ###\n",
    "X = pd.DataFrame(current, columns = ['global_surface_temp_anomaly(celsius)', 'greenland_ice_mass_change', 'global_co2(in billion metric tons)'])\n",
    "y = pd.DataFrame(current, columns=['adjusted_sea_level(in)'])"
   ]
  },
  {
   "cell_type": "code",
   "execution_count": 37,
   "id": "4299481c",
   "metadata": {},
   "outputs": [
    {
     "name": "stdout",
     "output_type": "stream",
     "text": [
      "    global_surface_temp_anomaly(celsius)  greenland_ice_mass_change  \\\n",
      "10                                  1.15               -1563.584047   \n",
      "\n",
      "    global_co2(in billion metric tons)  \n",
      "10                               33.34  \n",
      "    global_surface_temp_anomaly(celsius)  greenland_ice_mass_change  \\\n",
      "24                                  0.35                 157.888961   \n",
      "\n",
      "    global_co2(in billion metric tons)  \n",
      "24                               24.15  \n",
      "    adjusted_sea_level(in)\n",
      "10                8.834646\n",
      "    adjusted_sea_level(in)\n",
      "24                6.783465\n"
     ]
    }
   ],
   "source": [
    "# WITH a random_state parameter:\n",
    "#  (Same split every time! Note you can change the random state to any integer.)\n",
    "X_train, X_test, y_train, y_test = train_test_split(X, y, random_state=1)\n",
    "# Print the first element of each object.\n",
    "print(X_train.head(1))\n",
    "print(X_test.head(1))\n",
    "print(y_train.head(1))\n",
    "print(y_test.head(1))"
   ]
  },
  {
   "cell_type": "code",
   "execution_count": 38,
   "id": "7e84eb19",
   "metadata": {},
   "outputs": [],
   "source": [
    "# Create linear regression model\n",
    "lm = LinearRegression()\n",
    "\n",
    "# Fit linear regression\n",
    "lm.fit(X_train, y_train)\n",
    "\n",
    "# Make prediction on the testing data\n",
    "pred = lm.predict(X_test)"
   ]
  },
  {
   "cell_type": "code",
   "execution_count": 39,
   "id": "27a75e8a",
   "metadata": {},
   "outputs": [],
   "source": [
    "# Calculate the R^2 or coefficent of determination between the actual & predicted\n",
    "test_set_r2 = r2_score(y_test, pred)"
   ]
  },
  {
   "cell_type": "code",
   "execution_count": 40,
   "id": "77494d52",
   "metadata": {},
   "outputs": [
    {
     "name": "stdout",
     "output_type": "stream",
     "text": [
      "0.9412308230895144\n"
     ]
    }
   ],
   "source": [
    "print(test_set_r2)"
   ]
  },
  {
   "cell_type": "code",
   "execution_count": 41,
   "id": "c3ceb588",
   "metadata": {},
   "outputs": [
    {
     "data": {
      "text/plain": [
       "array([3.29904097])"
      ]
     },
     "execution_count": 41,
     "metadata": {},
     "output_type": "execute_result"
    }
   ],
   "source": [
    "# Get the slope and intercept of the line best fit.\n",
    "lm.intercept_"
   ]
  },
  {
   "cell_type": "code",
   "execution_count": 42,
   "id": "0351cec4",
   "metadata": {},
   "outputs": [
    {
     "data": {
      "text/plain": [
       "array([[ 2.39698877e-01, -1.68271750e-04,  1.41982009e-01]])"
      ]
     },
     "execution_count": 42,
     "metadata": {},
     "output_type": "execute_result"
    }
   ],
   "source": [
    "lm.coef_"
   ]
  },
  {
   "cell_type": "code",
   "execution_count": 43,
   "id": "6940a193",
   "metadata": {},
   "outputs": [],
   "source": [
    "intercept = 3.29904097\n",
    "surftemp_coef = 2.39698877e-01\n",
    "greenland_coef = -1.68271750e-04\n",
    "co2_coef = 1.41982009e-01"
   ]
  },
  {
   "cell_type": "code",
   "execution_count": null,
   "id": "ec7fcb11",
   "metadata": {},
   "outputs": [],
   "source": [
    "### set year variable ###\n",
    "\n",
    "Year = 2022"
   ]
  },
  {
   "cell_type": "code",
   "execution_count": 52,
   "id": "ca1c193f",
   "metadata": {},
   "outputs": [
    {
     "data": {
      "image/png": "[encoded data removed]",
      "text/plain": [
       "<Figure size 432x288 with 1 Axes>"
      ]
     },
     "metadata": {
      "needs_background": "light"
     },
     "output_type": "display_data"
    }
   ],
   "source": [
    "### Surface Temp vs Year ###\n",
    "plt.scatter(data['Year'], data['global_surface_temp_anomaly(celsius)'], color='blue')\n",
    "plt.title('Global Surface Temperature Anomaly Vs Year', fontsize=14)\n",
    "plt.xlabel('Year', fontsize=14)\n",
    "plt.ylabel('Global Surface Temperature Anomaly', fontsize=14)\n",
    "plt.grid(True)"
   ]
  },
  {
   "cell_type": "code",
   "execution_count": 65,
   "id": "a490678f",
   "metadata": {},
   "outputs": [],
   "source": [
    "### Equation: Global Surface Temp Anomaly(Celsius) = 0.0117089*Year + -22.7447 ###\n",
    "Global_Surface_Temp_Anomaly = 0.0117089*Year + -22.7447\n"
   ]
  },
  {
   "cell_type": "code",
   "execution_count": 66,
   "id": "a09be44c",
   "metadata": {},
   "outputs": [
    {
     "data": {
      "image/png": "[encoded data removed]",
      "text/plain": [
       "<Figure size 432x288 with 1 Axes>"
      ]
     },
     "metadata": {
      "needs_background": "light"
     },
     "output_type": "display_data"
    }
   ],
   "source": [
    "### Greenland vs Year ###\n",
    "plt.scatter(data['Year'], data['greenland_ice_mass_change'], color='blue')\n",
    "plt.title('Greenland Ice Mass Change vs Year', fontsize=14)\n",
    "plt.xlabel('Year', fontsize=14)\n",
    "plt.ylabel('Greenland Ice Mass Change', fontsize=14)\n",
    "plt.grid(True)"
   ]
  },
  {
   "cell_type": "code",
   "execution_count": 67,
   "id": "658570f7",
   "metadata": {},
   "outputs": [],
   "source": [
    "### Equation: Greenland Ice Mass Change = -175.395*Year + 350645 ###\n",
    "Greenland_Ice_Mass_Change = -175.395*Year + 350645"
   ]
  },
  {
   "cell_type": "code",
   "execution_count": 68,
   "id": "60949858",
   "metadata": {},
   "outputs": [
    {
     "data": {
      "image/png": "[encoded data removed]",
      "text/plain": [
       "<Figure size 432x288 with 1 Axes>"
      ]
     },
     "metadata": {
      "needs_background": "light"
     },
     "output_type": "display_data"
    }
   ],
   "source": [
    "### Co2 vs Year ###\n",
    "plt.scatter(data['Year'], data['global_co2(in billion metric tons)'], color='blue')\n",
    "plt.title('Global Co2 Emissions vs Year', fontsize=14)\n",
    "plt.xlabel('Year', fontsize=14)\n",
    "plt.ylabel('Global Co2 Emissions (billion metric tons)', fontsize=14)\n",
    "plt.grid(True)"
   ]
  },
  {
   "cell_type": "code",
   "execution_count": 69,
   "id": "33ef4f66",
   "metadata": {},
   "outputs": [],
   "source": [
    "### Equation: Global Co2(In Billion Metric Tons) = 0.58499*Year + -1143.64\n",
    "Global_co2 = 0.58499*Year + -1143.64"
   ]
  },
  {
   "cell_type": "code",
   "execution_count": null,
   "id": "f24b65b4",
   "metadata": {},
   "outputs": [],
   "source": []
  }
 ],
 "metadata": {
  "kernelspec": {
   "display_name": "mlenv",
   "language": "python",
   "name": "mlenv"
  },
  "language_info": {
   "codemirror_mode": {
    "name": "ipython",
    "version": 3
   },
   "file_extension": ".py",
   "mimetype": "text/x-python",
   "name": "python",
   "nbconvert_exporter": "python",
   "pygments_lexer": "ipython3",
   "version": "3.7.11"
  }
 },
 "nbformat": 4,
 "nbformat_minor": 5
}
